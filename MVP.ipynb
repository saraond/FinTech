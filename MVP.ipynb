{
 "cells": [
  {
   "cell_type": "markdown",
   "id": "4e2d8b45-8c6d-416b-93eb-f448cbc45a59",
   "metadata": {},
   "source": [
    "Loading all necessary packages"
   ]
  },
  {
   "cell_type": "code",
   "execution_count": 21,
   "id": "bb9ddf4b-9f74-49f5-9af4-2ffa9f42bb41",
   "metadata": {},
   "outputs": [],
   "source": [
    "import json\n",
    "import requests\n",
    "import numpy as np\n",
    "import pandas as pd\n",
    "import yfinance as yf\n",
    "import alpaca_trade_api as tradeapi"
   ]
  },
  {
   "cell_type": "markdown",
   "id": "4e4cb7ca-0021-4732-b4dd-3c4579ba4d8b",
   "metadata": {},
   "source": [
    "Defining the API key using a throw-away account in order to retrieve the real time data API data. Instead of using this throw-away account, we could also store this key in a file and load the information from there, however, then the professor/teaching assistant would have to load their own API keys. For simplicity  in this asssignment, we go with the first option.\n",
    "The data will be retrieved from Alpha Vantage, favored for its broad data coverage, ease of use when integrating into Python and its free API access (although limited for free accounts)."
   ]
  },
  {
   "cell_type": "code",
   "execution_count": 2,
   "id": "8310daa6-311a-490d-945d-11246b84701f",
   "metadata": {},
   "outputs": [],
   "source": [
    "API_KEY = 'FN9MWSGO73DP01GS'\n",
    "BASE_URL = 'https://www.alphavantage.co/query'"
   ]
  },
  {
   "cell_type": "markdown",
   "id": "11c686d8-6117-4b01-906c-df8f6e7f6354",
   "metadata": {},
   "source": [
    "Retrieving real time data"
   ]
  },
  {
   "cell_type": "code",
   "execution_count": 3,
   "id": "c7453711-6d6d-4840-bf5f-ff3532bd2b4d",
   "metadata": {},
   "outputs": [],
   "source": [
    "def get_real_time_data(symbol):\n",
    "    function = 'GLOBAL_QUOTE'\n",
    "    params = {\n",
    "        'function': function,\n",
    "        'symbol': symbol,\n",
    "        'apikey': API_KEY\n",
    "    }\n",
    "    response = requests.get(BASE_URL, params=params)\n",
    "    data = response.json()\n",
    "    return data\n"
   ]
  },
  {
   "cell_type": "markdown",
   "id": "97347121-a76c-4015-a3ca-88c4e0395b54",
   "metadata": {},
   "source": [
    "Example usage: real-time API data retrieval"
   ]
  },
  {
   "cell_type": "markdown",
   "id": "7f96a0d6-eb2a-432c-9f5c-ff1f1ad6ac7f",
   "metadata": {},
   "source": [
    "Input needed: company symbol"
   ]
  },
  {
   "cell_type": "code",
   "execution_count": 4,
   "id": "da06c267-eb3a-41e0-9575-84f25c1a24ca",
   "metadata": {},
   "outputs": [],
   "source": [
    "symbol = 'AAPL'"
   ]
  },
  {
   "cell_type": "code",
   "execution_count": 5,
   "id": "c496dcf5-d40f-4b48-8ec3-351e3cc6fdbb",
   "metadata": {
    "scrolled": true
   },
   "outputs": [
    {
     "name": "stdout",
     "output_type": "stream",
     "text": [
      "{\n",
      "    \"Global Quote\": {\n",
      "        \"01. symbol\": \"AAPL\",\n",
      "        \"02. open\": \"209.1500\",\n",
      "        \"03. high\": \"211.3800\",\n",
      "        \"04. low\": \"208.6100\",\n",
      "        \"05. price\": \"209.0700\",\n",
      "        \"06. volume\": \"56713868\",\n",
      "        \"07. latest trading day\": \"2024-06-25\",\n",
      "        \"08. previous close\": \"208.1400\",\n",
      "        \"09. change\": \"0.9300\",\n",
      "        \"10. change percent\": \"0.4468%\"\n",
      "    }\n",
      "}\n"
     ]
    }
   ],
   "source": [
    "data = get_real_time_data(symbol)\n",
    "print(json.dumps(data, indent=4))"
   ]
  },
  {
   "cell_type": "markdown",
   "id": "26f7b875-6085-4e85-ac08-d229891f3a6f",
   "metadata": {},
   "source": [
    "Portfolio rebalancing"
   ]
  },
  {
   "cell_type": "code",
   "execution_count": 7,
   "id": "b0d8bb3b-08ff-4866-8e14-900668cb404b",
   "metadata": {},
   "outputs": [],
   "source": [
    "def rebalance_portfolio(current_values, desired_weights):\n",
    "\n",
    "    # Calculate the total portfolio value\n",
    "    total_value = sum(current_values.values())\n",
    "    \n",
    "    # Calculate current weights\n",
    "    current_weights = {asset: value / total_value for asset, value in current_values.items()}\n",
    "    \n",
    "    # Calculate the amount to buy/sell for each asset\n",
    "    trades = {}\n",
    "    for asset in current_values.keys():\n",
    "        desired_value = desired_weights[asset] * total_value\n",
    "        current_value = current_values[asset]\n",
    "        trades[asset] = desired_value - current_value\n",
    "    \n",
    "    return trades\n"
   ]
  },
  {
   "cell_type": "markdown",
   "id": "c1fd3b5b-cbf3-483a-8245-b7842b0d9fbe",
   "metadata": {},
   "source": [
    "Example usage: Portfolio rebalancing"
   ]
  },
  {
   "cell_type": "markdown",
   "id": "1e5a2cd1-6af7-4d07-ae28-7e55c4587da0",
   "metadata": {},
   "source": [
    "Input needed: current values of each asset, as well as their corresponding weight as desired by the investor"
   ]
  },
  {
   "cell_type": "code",
   "execution_count": 8,
   "id": "e31959f9-ab9b-426a-bbab-cdb2cec3dd2e",
   "metadata": {},
   "outputs": [],
   "source": [
    "current_values = {'AAPL': 1000, 'GOOGL': 1500, 'MSFT': 2000}\n",
    "desired_weights = {'AAPL': 0.4, 'GOOGL': 0.3, 'MSFT': 0.3}"
   ]
  },
  {
   "cell_type": "code",
   "execution_count": 9,
   "id": "b89366a5-68ff-4c79-8b35-8ef9b0f9c7ba",
   "metadata": {},
   "outputs": [
    {
     "name": "stdout",
     "output_type": "stream",
     "text": [
      "{'AAPL': 800.0, 'GOOGL': -150.0, 'MSFT': -650.0}\n"
     ]
    }
   ],
   "source": [
    "trades = rebalance_portfolio(current_values, desired_weights)\n",
    "print(trades)"
   ]
  },
  {
   "cell_type": "markdown",
   "id": "19d626a8-a8ed-4d1f-9c96-e11ca2f83901",
   "metadata": {},
   "source": [
    "- : should sell\n",
    "+ : should buy"
   ]
  },
  {
   "cell_type": "markdown",
   "id": "c5299186-0a7d-4e5e-bab5-2d863f3ef8fe",
   "metadata": {},
   "source": [
    "Portfolio Return Calculation"
   ]
  },
  {
   "cell_type": "code",
   "execution_count": 10,
   "id": "7fa3df7a-0e8e-44c7-83cd-e2f5cef5e1c2",
   "metadata": {},
   "outputs": [],
   "source": [
    "def calculate_portfolio_return(initial_values, final_values):\n",
    "\n",
    "    # Calculate individual asset returns\n",
    "    asset_returns = {asset: (final_values[asset] - initial_values[asset]) / initial_values[asset]\n",
    "                     for asset in initial_values}\n",
    "    \n",
    "    # Calculate total portfolio return\n",
    "    initial_portfolio_value = sum(initial_values.values())\n",
    "    final_portfolio_value = sum(final_values.values())\n",
    "    portfolio_return = (final_portfolio_value - initial_portfolio_value) / initial_portfolio_value\n",
    "    \n",
    "    return portfolio_return, asset_returns\n"
   ]
  },
  {
   "cell_type": "markdown",
   "id": "617178b3-168f-4be9-ad74-6889a6bee7a9",
   "metadata": {},
   "source": [
    "Input needed: information on initial values per asset as well as their final values"
   ]
  },
  {
   "cell_type": "code",
   "execution_count": 11,
   "id": "42947fae-01a6-4659-8019-055a50bb6a19",
   "metadata": {},
   "outputs": [],
   "source": [
    "initial_values = {'AAPL': 1000, 'GOOGL': 1500, 'MSFT': 2000}\n",
    "final_values = {'AAPL': 1200, 'GOOGL': 1600, 'MSFT': 2100}"
   ]
  },
  {
   "cell_type": "code",
   "execution_count": 12,
   "id": "fa9089b0-49bb-471a-ae67-690eb15f1506",
   "metadata": {},
   "outputs": [
    {
     "name": "stdout",
     "output_type": "stream",
     "text": [
      "Total Portfolio Return: 8.89%\n",
      "Individual Asset Returns:\n",
      "AAPL: 20.00%\n",
      "GOOGL: 6.67%\n",
      "MSFT: 5.00%\n"
     ]
    }
   ],
   "source": [
    "portfolio_return, asset_returns = calculate_portfolio_return(initial_values, final_values)\n",
    "print(f\"Total Portfolio Return: {portfolio_return:.2%}\")\n",
    "print(\"Individual Asset Returns:\")\n",
    "for asset, return_value in asset_returns.items():\n",
    "    print(f\"{asset}: {return_value:.2%}\")"
   ]
  },
  {
   "cell_type": "markdown",
   "id": "38b9d831-8baa-44ef-803b-745e517bbfd9",
   "metadata": {},
   "source": [
    "Satisfictory total return, with Apple stocks being the best performing from the portfolio"
   ]
  },
  {
   "cell_type": "markdown",
   "id": "249166ba-9dba-46b1-8257-877f17576866",
   "metadata": {},
   "source": [
    "Risk assessment"
   ]
  },
  {
   "cell_type": "markdown",
   "id": "73995f15-9553-4bd2-af40-e8a4f33d7050",
   "metadata": {},
   "source": [
    "Input needed: tickers of the stocks in the portfolio as well as the start and end dates for the historical data - forward looking techniques may be used too"
   ]
  },
  {
   "cell_type": "code",
   "execution_count": 14,
   "id": "03f00a46-b2b2-4b19-8d43-4926f52c438a",
   "metadata": {},
   "outputs": [],
   "source": [
    "tickers = ['AAPL', 'GOOGL', 'MSFT']\n",
    "start_date = '2022-01-01'\n",
    "end_date = '2023-01-01'"
   ]
  },
  {
   "cell_type": "markdown",
   "id": "5b04061c-8c0d-49f3-bb0d-14bf487c37c5",
   "metadata": {},
   "source": [
    "Risk and Average Return Calculation"
   ]
  },
  {
   "cell_type": "code",
   "execution_count": 15,
   "id": "ecaba89a-006d-419b-876f-04d12d0d5beb",
   "metadata": {},
   "outputs": [
    {
     "name": "stderr",
     "output_type": "stream",
     "text": [
      "[*********************100%%**********************]  3 of 3 completed"
     ]
    },
    {
     "name": "stdout",
     "output_type": "stream",
     "text": [
      "Risk (Std Dev) for each stock:\n",
      "Ticker\n",
      "AAPL     0.022471\n",
      "GOOGL    0.024396\n",
      "MSFT     0.022308\n",
      "dtype: float64\n",
      "\n",
      "Average Return for each stock:\n",
      "Ticker\n",
      "AAPL    -0.001097\n",
      "GOOGL   -0.001689\n",
      "MSFT    -0.001085\n",
      "dtype: float64\n",
      "\n",
      "Total Portfolio Return: -0.13%\n",
      "Total Portfolio Risk (Std Dev): 0.021665889557546347\n"
     ]
    },
    {
     "name": "stderr",
     "output_type": "stream",
     "text": [
      "\n"
     ]
    }
   ],
   "source": [
    "# Fetch the historical data for the stocks\n",
    "stock_data = yf.download(tickers, start=start_date, end=end_date)['Close']\n",
    "\n",
    "# Calculate daily returns\n",
    "returns = stock_data.pct_change()\n",
    "\n",
    "# Calculate risk (standard deviation of returns) for each stock\n",
    "risk = returns.std()\n",
    "\n",
    "# Calculate average return for each stock\n",
    "average_return = returns.mean()\n",
    "\n",
    "# Print the results\n",
    "print(\"Risk (Std Dev) for each stock:\")\n",
    "print(risk)\n",
    "print(\"\\nAverage Return for each stock:\")\n",
    "print(average_return)\n",
    "\n",
    "# Calculate portfolio return assuming equal weights\n",
    "portfolio_return = returns.mean(axis=1).mean()\n",
    "\n",
    "# Calculate portfolio risk assuming equal weights\n",
    "portfolio_risk = returns.mean(axis=1).std()\n",
    "\n",
    "print(f'\\nTotal Portfolio Return: {portfolio_return * 100:.2f}%')\n",
    "print(f'Total Portfolio Risk (Std Dev): {portfolio_risk}')\n"
   ]
  },
  {
   "cell_type": "markdown",
   "id": "4d0d5d5b-4e10-404d-8a66-5720c8b55ced",
   "metadata": {},
   "source": [
    "Annualized risk, Sharpe ratio, Value at Risk -Same input data as for the previous case"
   ]
  },
  {
   "cell_type": "code",
   "execution_count": 16,
   "id": "52b80cb5-4f8c-4920-adab-f1ab54475c7a",
   "metadata": {
    "scrolled": true
   },
   "outputs": [
    {
     "name": "stdout",
     "output_type": "stream",
     "text": [
      "Annualized Risk (Std Dev) for each stock:\n",
      "Ticker\n",
      "AAPL     0.356716\n",
      "GOOGL    0.387272\n",
      "MSFT     0.354123\n",
      "dtype: float64\n",
      "\n",
      "Average Annualized Return for each stock:\n",
      "Ticker\n",
      "AAPL    -0.276351\n",
      "GOOGL   -0.425538\n",
      "MSFT    -0.273503\n",
      "dtype: float64\n",
      "\n",
      "Sharpe Ratio for each stock:\n",
      "Ticker\n",
      "AAPL    -0.830776\n",
      "GOOGL   -1.150451\n",
      "MSFT    -0.828819\n",
      "dtype: float64\n",
      "\n",
      "Total Portfolio Annualized Return: -32.51%\n",
      "Total Portfolio Annualized Risk (Std Dev): 0.3439353342135532\n",
      "Total Portfolio Sharpe Ratio: -1.0034753837774995\n",
      "\n",
      "Portfolio Value at Risk (VaR) at 95% confidence level: -3.67%\n"
     ]
    }
   ],
   "source": [
    "# Calculate annualized risk (standard deviation of returns) for each stock\n",
    "annualized_risk = returns.std() * np.sqrt(252)\n",
    "\n",
    "# Calculate average annualized return for each stock\n",
    "average_annualized_return = returns.mean() * 252\n",
    "\n",
    "# Print the results\n",
    "print(\"Annualized Risk (Std Dev) for each stock:\")\n",
    "print(annualized_risk)\n",
    "print(\"\\nAverage Annualized Return for each stock:\")\n",
    "print(average_annualized_return)\n",
    "\n",
    "# Calculate the Sharpe Ratio for each stock\n",
    "risk_free_rate = 0.02\n",
    "sharpe_ratio = (average_annualized_return - risk_free_rate) / annualized_risk\n",
    "print(\"\\nSharpe Ratio for each stock:\")\n",
    "print(sharpe_ratio)\n",
    "\n",
    "# Calculate portfolio metrics assuming equal weights\n",
    "weights = np.array([1/len(tickers)] * len(tickers))\n",
    "portfolio_return = np.sum(returns.mean() * weights) * 252\n",
    "portfolio_volatility = np.sqrt(np.dot(weights.T, np.dot(returns.cov() * 252, weights)))\n",
    "portfolio_sharpe_ratio = (portfolio_return - risk_free_rate) / portfolio_volatility\n",
    "\n",
    "print(f'\\nTotal Portfolio Annualized Return: {portfolio_return * 100:.2f}%')\n",
    "print(f'Total Portfolio Annualized Risk (Std Dev): {portfolio_volatility}')\n",
    "print(f'Total Portfolio Sharpe Ratio: {portfolio_sharpe_ratio}')\n",
    "\n",
    "# Calculate Value at Risk (VaR) at 95% confidence level for the portfolio\n",
    "VaR_95 = returns.dot(weights).quantile(0.05)\n",
    "print(f'\\nPortfolio Value at Risk (VaR) at 95% confidence level: {VaR_95 * 100:.2f}%')\n"
   ]
  },
  {
   "cell_type": "markdown",
   "id": "8ca4f6b9-53b8-4540-b225-35204e2ceab2",
   "metadata": {},
   "source": [
    "Recommendation based on risk assessment"
   ]
  },
  {
   "cell_type": "code",
   "execution_count": 19,
   "id": "682ec3fb-9c20-4287-b4d0-1a8473cdcb87",
   "metadata": {},
   "outputs": [
    {
     "name": "stdout",
     "output_type": "stream",
     "text": [
      "Annualized Risk (Std Dev) for each stock:\n",
      "Ticker\n",
      "AAPL     0.356716\n",
      "GOOGL    0.387272\n",
      "MSFT     0.354123\n",
      "dtype: float64\n",
      "\n",
      "Average Annualized Return for each stock:\n",
      "Ticker\n",
      "AAPL    -0.276351\n",
      "GOOGL   -0.425538\n",
      "MSFT    -0.273503\n",
      "dtype: float64\n",
      "\n",
      "Sharpe Ratio for each stock:\n",
      "Ticker\n",
      "AAPL    -0.830776\n",
      "GOOGL   -1.150451\n",
      "MSFT    -0.828819\n",
      "dtype: float64\n",
      "\n",
      "Total Portfolio Annualized Return: -32.51%\n",
      "Total Portfolio Annualized Risk (Std Dev): 0.021665889557546347\n",
      "Total Portfolio Sharpe Ratio: -1.0034753837774995\n",
      "\n",
      "Portfolio Value at Risk (VaR) at 95% confidence level: -3.67%\n",
      "\n",
      "Recommendation: Consider changing this portfolio.\n"
     ]
    }
   ],
   "source": [
    "# Define thresholds for recommendation\n",
    "def recommend_portfolio(portfolio_return, portfolio_risk, portfolio_sharpe_ratio, portfolio_var):\n",
    "    return_good = portfolio_return > 0.05\n",
    "    return_bad = portfolio_return < 0.00\n",
    "    \n",
    "    risk_good = portfolio_risk < 0.20\n",
    "    risk_bad = portfolio_risk > 0.30\n",
    "    \n",
    "    sharpe_good = portfolio_sharpe_ratio > 1\n",
    "    sharpe_bad = portfolio_sharpe_ratio < 0\n",
    "    \n",
    "    var_good = portfolio_var > -0.02\n",
    "    var_bad = portfolio_var < -0.05\n",
    "\n",
    "    # Recommendation logic\n",
    "    if return_good and risk_good and sharpe_good and var_good:\n",
    "        return \"Recommendation: Stick to this portfolio.\"\n",
    "    elif return_bad or risk_bad or sharpe_bad or var_bad:\n",
    "        return \"Recommendation: Consider changing this portfolio.\"\n",
    "    else:\n",
    "        return \"Recommendation: Monitor this portfolio closely.\"\n",
    "\n",
    "# Print results and recommendation\n",
    "print(\"Annualized Risk (Std Dev) for each stock:\")\n",
    "print(annualized_risk)\n",
    "print(\"\\nAverage Annualized Return for each stock:\")\n",
    "print(average_annualized_return)\n",
    "print(\"\\nSharpe Ratio for each stock:\")\n",
    "print(sharpe_ratio)\n",
    "\n",
    "print(f'\\nTotal Portfolio Annualized Return: {portfolio_return * 100:.2f}%')\n",
    "print(f'Total Portfolio Annualized Risk (Std Dev): {portfolio_risk}')\n",
    "print(f'Total Portfolio Sharpe Ratio: {portfolio_sharpe_ratio}')\n",
    "print(f'\\nPortfolio Value at Risk (VaR) at 95% confidence level: {VaR_95 * 100:.2f}%')\n",
    "\n",
    "# Get recommendation\n",
    "recommendation = recommend_portfolio(portfolio_return, portfolio_risk, portfolio_sharpe_ratio, VaR_95)\n",
    "print(\"\\n\" + recommendation)\n"
   ]
  },
  {
   "cell_type": "markdown",
   "id": "5924390b-87bf-444b-a4e7-d9b6a59b650c",
   "metadata": {},
   "source": [
    "Trade execution: no available API key so the code will not run as it would in practice. Please review how it would work in theory"
   ]
  },
  {
   "cell_type": "code",
   "execution_count": null,
   "id": "7f5a96d4-693e-4899-89fb-cd47cc72f31d",
   "metadata": {},
   "outputs": [],
   "source": [
    "# Set up Alpaca API credentials\n",
    "API_KEY = 'your_alpaca_api_key'\n",
    "API_SECRET = 'your_alpaca_secret_key'\n",
    "BASE_URL = 'https://paper-api.alpaca.markets'  #paper trading only\n",
    "\n",
    "# Initialize the Alpaca API\n",
    "api = tradeapi.REST(API_KEY, API_SECRET, BASE_URL, api_version='v2')\n",
    "\n",
    "# Function to place an order\n",
    "def place_order(symbol, qty, side, order_type='market', time_in_force='gtc'):\n",
    "    order = api.submit_order(\n",
    "        symbol=symbol,\n",
    "        qty=qty,\n",
    "        side=side,\n",
    "        type=order_type,\n",
    "        time_in_force=time_in_force\n",
    "    )\n",
    "    return order\n",
    "\n",
    "# Function to check order status\n",
    "def check_order_status(order_id):\n",
    "    order = api.get_order(order_id)\n",
    "    return order\n",
    "\n",
    "# Function to get account details\n",
    "def get_account_details():\n",
    "    account = api.get_account()\n",
    "    return account\n",
    "\n",
    "# Place an order: input needed\n",
    "order = place_order('AAPL', 10, 'buy')\n",
    "print(f\"Order placed: {order.id}\")\n",
    "\n",
    "# Check the status of the placed order\n",
    "order_status = check_order_status(order.id)\n",
    "print(f\"Order status: {order_status.status}\")\n",
    "\n",
    "# Get account details\n",
    "account_details = get_account_details()\n",
    "print(f\"Account cash balance: {account_details.cash}\")\n"
   ]
  }
 ],
 "metadata": {
  "kernelspec": {
   "display_name": "Python (venv)",
   "language": "python",
   "name": "venv"
  },
  "language_info": {
   "codemirror_mode": {
    "name": "ipython",
    "version": 3
   },
   "file_extension": ".py",
   "mimetype": "text/x-python",
   "name": "python",
   "nbconvert_exporter": "python",
   "pygments_lexer": "ipython3",
   "version": "3.12.0"
  }
 },
 "nbformat": 4,
 "nbformat_minor": 5
}
